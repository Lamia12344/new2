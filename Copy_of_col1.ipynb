{
  "nbformat": 4,
  "nbformat_minor": 0,
  "metadata": {
    "colab": {
      "provenance": [],
      "authorship_tag": "ABX9TyN4foqPUA1sBWYR46ihP20T"
    },
    "kernelspec": {
      "name": "python3",
      "display_name": "Python 3"
    },
    "language_info": {
      "name": "python"
    }
  },
  "cells": [
    {
      "cell_type": "code",
      "execution_count": null,
      "metadata": {
        "colab": {
          "base_uri": "https://localhost:8080/",
          "height": 140
        },
        "id": "-HF3dec8UfZc",
        "outputId": "ee3da48d-2806-4e06-ef4d-349aa14c8781"
      },
      "outputs": [
        {
          "output_type": "error",
          "ename": "SyntaxError",
          "evalue": "ignored",
          "traceback": [
            "\u001b[0;36m  File \u001b[0;32m\"<ipython-input-2-efee943f963e>\"\u001b[0;36m, line \u001b[0;32m1\u001b[0m\n\u001b[0;31m    // ignore_for_file: unused_import, use_key_in_widget_constructors, prefer_const_constructors, prefer_const_literals_to_create_immutables\u001b[0m\n\u001b[0m    ^\u001b[0m\n\u001b[0;31mSyntaxError\u001b[0m\u001b[0;31m:\u001b[0m invalid syntax\n"
          ]
        }
      ],
      "source": [
        "// ignore_for_file: unused_import, use_key_in_widget_constructors, prefer_const_constructors, prefer_const_literals_to_create_immutables\n",
        "\n",
        "import 'package:flutter_application_2/models/counter_model.dart';\n",
        "import 'package:flutter/material.dart';\n",
        "import 'package:flutter_application_2/views/home_view.dart';\n",
        "import 'package:provider/provider.dart';\n",
        "\n",
        "void main() {\n",
        "  runApp(\n",
        "    ChangeNotifierProvider(\n",
        "      create: (context) => NavigationProvider(),\n",
        "      child: MyApp(),\n",
        "    ),\n",
        "  );\n",
        "}\n",
        "\n",
        "class MyApp extends StatelessWidget {\n",
        "  @override\n",
        "  Widget build(BuildContext context) {\n",
        "    return MaterialApp(\n",
        "      debugShowCheckedModeBanner: false,\n",
        "      home: MyHomePage(),\n",
        "    );\n",
        "  }\n",
        "}\n",
        "\n",
        "class MyHomePage extends StatelessWidget {\n",
        "  @override\n",
        "  Widget build(BuildContext context) {\n",
        "    return Scaffold(\n",
        "      appBar: AppBar(\n",
        "        title: Text('Bottom Navigation Bar'),\n",
        "      ),\n",
        "      body: Consumer<NavigationProvider>(\n",
        "        builder: (context, provider, child) {\n",
        "          return IndexedStack(\n",
        "            index: provider.currentIndex,\n",
        "            children: [\n",
        "              Home(),\n",
        "              SecondPage(),\n",
        "              ThirdPage(),\n",
        "            ],\n",
        "          );\n",
        "        },\n",
        "      ),\n",
        "      bottomNavigationBar: BottomNavigationBar(\n",
        "        currentIndex: context.watch<NavigationProvider>().currentIndex,\n",
        "        onTap: (index) {\n",
        "          context.read<NavigationProvider>().updateCurrentIndex(index);\n",
        "        },\n",
        "        items: [\n",
        "          BottomNavigationBarItem(\n",
        "            icon: Icon(Icons.home),\n",
        "            label: 'الصفحة الرئيسيه',\n",
        "          ),\n",
        "          BottomNavigationBarItem(\n",
        "            icon: Icon(Icons.menu),\n",
        "            label: 'قائمة',\n",
        "          ),\n",
        "          BottomNavigationBarItem(\n",
        "            icon: Icon(Icons.settings),\n",
        "            label: 'الاعدادات',\n",
        "          ),\n",
        "        ],\n",
        "      ),\n",
        "    );\n",
        "  }\n",
        "}\n",
        "\n",
        "class SecondPage extends StatelessWidget {\n",
        "  @override\n",
        "  Widget build(BuildContext context) {\n",
        "    return Center(\n",
        "      child: Text(\n",
        "        'Second Page',\n",
        "        style: TextStyle(fontSize: 25),\n",
        "      ),\n",
        "    );\n",
        "  }\n",
        "}\n",
        "\n",
        "class ThirdPage extends StatelessWidget {\n",
        "  @override\n",
        "  Widget build(BuildContext context) {\n",
        "    return Center(\n",
        "      child: Text('Third Page', style: TextStyle(fontSize: 25)),\n",
        "    );\n",
        "  }\n",
        "}\n",
        "\n",
        "class NavigationProvider extends ChangeNotifier {\n",
        "  int _currentIndex = 0;\n",
        "\n",
        "  int get currentIndex => _currentIndex;\n",
        "\n",
        "  void updateCurrentIndex(int newIndex) {\n",
        "    _currentIndex = newIndex;\n",
        "    notifyListeners();\n",
        "  }\n",
        "}\n"
      ]
    },
    {
      "cell_type": "code",
      "source": [],
      "metadata": {
        "id": "C4FmrvtwU_zF"
      },
      "execution_count": null,
      "outputs": []
    }
  ]
}